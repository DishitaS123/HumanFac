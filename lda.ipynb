{
 "cells": [
  {
   "cell_type": "code",
   "execution_count": 1,
   "metadata": {},
   "outputs": [],
   "source": [
    "import json\n",
    "import pandas as pd\n",
    "import string\n",
    "import nltk\n",
    "from nltk.tokenize import word_tokenize\n",
    "from nltk.corpus import stopwords\n",
    "from sklearn.feature_extraction.text import CountVectorizer\n",
    "import re\n",
    "from gensim.corpora import Dictionary\n",
    "from gensim.models import LdaModel\n",
    "from googletrans import Translator\n",
    "from langdetect import detect\n",
    "import numpy as np\n",
    "\n"
   ]
  },
  {
   "cell_type": "code",
   "execution_count": 2,
   "metadata": {},
   "outputs": [
    {
     "data": {
      "text/html": [
       "<div>\n",
       "<style scoped>\n",
       "    .dataframe tbody tr th:only-of-type {\n",
       "        vertical-align: middle;\n",
       "    }\n",
       "\n",
       "    .dataframe tbody tr th {\n",
       "        vertical-align: top;\n",
       "    }\n",
       "\n",
       "    .dataframe thead th {\n",
       "        text-align: right;\n",
       "    }\n",
       "</style>\n",
       "<table border=\"1\" class=\"dataframe\">\n",
       "  <thead>\n",
       "    <tr style=\"text-align: right;\">\n",
       "      <th></th>\n",
       "      <th>id</th>\n",
       "      <th>conversations</th>\n",
       "    </tr>\n",
       "  </thead>\n",
       "  <tbody>\n",
       "    <tr>\n",
       "      <th>0</th>\n",
       "      <td>Og9h3C1</td>\n",
       "      <td>[{'from': 'human', 'value': \"root@openvpn:/hom...</td>\n",
       "    </tr>\n",
       "    <tr>\n",
       "      <th>1</th>\n",
       "      <td>A5AbcES</td>\n",
       "      <td>[{'from': 'human', 'value': 'In Java, I want t...</td>\n",
       "    </tr>\n",
       "    <tr>\n",
       "      <th>2</th>\n",
       "      <td>IWkMGRK</td>\n",
       "      <td>[{'from': 'human', 'value': 'I have the follow...</td>\n",
       "    </tr>\n",
       "    <tr>\n",
       "      <th>3</th>\n",
       "      <td>HskFS9I</td>\n",
       "      <td>[{'from': 'human', 'value': '1 / 1como crear u...</td>\n",
       "    </tr>\n",
       "    <tr>\n",
       "      <th>4</th>\n",
       "      <td>yn2eWCt</td>\n",
       "      <td>[{'from': 'human', 'value': 'how do I add mult...</td>\n",
       "    </tr>\n",
       "  </tbody>\n",
       "</table>\n",
       "</div>"
      ],
      "text/plain": [
       "        id                                      conversations\n",
       "0  Og9h3C1  [{'from': 'human', 'value': \"root@openvpn:/hom...\n",
       "1  A5AbcES  [{'from': 'human', 'value': 'In Java, I want t...\n",
       "2  IWkMGRK  [{'from': 'human', 'value': 'I have the follow...\n",
       "3  HskFS9I  [{'from': 'human', 'value': '1 / 1como crear u...\n",
       "4  yn2eWCt  [{'from': 'human', 'value': 'how do I add mult..."
      ]
     },
     "execution_count": 2,
     "metadata": {},
     "output_type": "execute_result"
    }
   ],
   "source": [
    "df = pd.read_csv(\"Dataframe_Wrangled_NoDuplicates.csv\")\n",
    "df.head()"
   ]
  },
  {
   "cell_type": "code",
   "execution_count": 3,
   "metadata": {},
   "outputs": [
    {
     "name": "stdout",
     "output_type": "stream",
     "text": [
      "23277\n"
     ]
    }
   ],
   "source": [
    "print(len(df))"
   ]
  },
  {
   "cell_type": "code",
   "execution_count": 4,
   "metadata": {},
   "outputs": [],
   "source": [
    "# parse conversations\n",
    "text_list = []\n",
    "text_arrays = []\n",
    "for conversation in df[\"conversations\"]:\n",
    "    text = \"\"\n",
    "    text_arr = []\n",
    "    parsed_conversation = eval(conversation)\n",
    "    for dialogue in parsed_conversation:\n",
    "        text += dialogue[\"value\"] + \" \"\n",
    "        text_arr.append(dialogue[\"value\"])\n",
    "    text_list.append(text)\n",
    "    text_arrays.append(text_arr)\n",
    "\n",
    "# create column with the conversation text\n",
    "df[\"text\"] = text_list\n",
    "df[\"values\"] = text_arrays\n",
    "        \n"
   ]
  },
  {
   "cell_type": "code",
   "execution_count": 8,
   "metadata": {},
   "outputs": [
    {
     "data": {
      "text/html": [
       "<div>\n",
       "<style scoped>\n",
       "    .dataframe tbody tr th:only-of-type {\n",
       "        vertical-align: middle;\n",
       "    }\n",
       "\n",
       "    .dataframe tbody tr th {\n",
       "        vertical-align: top;\n",
       "    }\n",
       "\n",
       "    .dataframe thead th {\n",
       "        text-align: right;\n",
       "    }\n",
       "</style>\n",
       "<table border=\"1\" class=\"dataframe\">\n",
       "  <thead>\n",
       "    <tr style=\"text-align: right;\">\n",
       "      <th></th>\n",
       "      <th>id</th>\n",
       "      <th>conversations</th>\n",
       "      <th>text</th>\n",
       "      <th>values</th>\n",
       "    </tr>\n",
       "  </thead>\n",
       "  <tbody>\n",
       "    <tr>\n",
       "      <th>0</th>\n",
       "      <td>Og9h3C1</td>\n",
       "      <td>[{'from': 'human', 'value': \"root@openvpn:/hom...</td>\n",
       "      <td>root@openvpn:/home/openvpn# ./openvpn-install....</td>\n",
       "      <td>[root@openvpn:/home/openvpn# ./openvpn-install...</td>\n",
       "    </tr>\n",
       "    <tr>\n",
       "      <th>1</th>\n",
       "      <td>A5AbcES</td>\n",
       "      <td>[{'from': 'human', 'value': 'In Java, I want t...</td>\n",
       "      <td>In Java, I want to replace string like \"This i...</td>\n",
       "      <td>[In Java, I want to replace string like \"This ...</td>\n",
       "    </tr>\n",
       "    <tr>\n",
       "      <th>2</th>\n",
       "      <td>IWkMGRK</td>\n",
       "      <td>[{'from': 'human', 'value': 'I have the follow...</td>\n",
       "      <td>I have the following C++ function: \\nvoid add_...</td>\n",
       "      <td>[I have the following C++ function: \\nvoid add...</td>\n",
       "    </tr>\n",
       "    <tr>\n",
       "      <th>3</th>\n",
       "      <td>HskFS9I</td>\n",
       "      <td>[{'from': 'human', 'value': '1 / 1como crear u...</td>\n",
       "      <td>1 / 1como crear un rol para kuberntes y dar so...</td>\n",
       "      <td>[1 / 1como crear un rol para kuberntes y dar s...</td>\n",
       "    </tr>\n",
       "    <tr>\n",
       "      <th>4</th>\n",
       "      <td>yn2eWCt</td>\n",
       "      <td>[{'from': 'human', 'value': 'how do I add mult...</td>\n",
       "      <td>how do I add multiple new columns in m for pow...</td>\n",
       "      <td>[how do I add multiple new columns in m for po...</td>\n",
       "    </tr>\n",
       "  </tbody>\n",
       "</table>\n",
       "</div>"
      ],
      "text/plain": [
       "        id                                      conversations  \\\n",
       "0  Og9h3C1  [{'from': 'human', 'value': \"root@openvpn:/hom...   \n",
       "1  A5AbcES  [{'from': 'human', 'value': 'In Java, I want t...   \n",
       "2  IWkMGRK  [{'from': 'human', 'value': 'I have the follow...   \n",
       "3  HskFS9I  [{'from': 'human', 'value': '1 / 1como crear u...   \n",
       "4  yn2eWCt  [{'from': 'human', 'value': 'how do I add mult...   \n",
       "\n",
       "                                                text  \\\n",
       "0  root@openvpn:/home/openvpn# ./openvpn-install....   \n",
       "1  In Java, I want to replace string like \"This i...   \n",
       "2  I have the following C++ function: \\nvoid add_...   \n",
       "3  1 / 1como crear un rol para kuberntes y dar so...   \n",
       "4  how do I add multiple new columns in m for pow...   \n",
       "\n",
       "                                              values  \n",
       "0  [root@openvpn:/home/openvpn# ./openvpn-install...  \n",
       "1  [In Java, I want to replace string like \"This ...  \n",
       "2  [I have the following C++ function: \\nvoid add...  \n",
       "3  [1 / 1como crear un rol para kuberntes y dar s...  \n",
       "4  [how do I add multiple new columns in m for po...  "
      ]
     },
     "execution_count": 8,
     "metadata": {},
     "output_type": "execute_result"
    }
   ],
   "source": [
    "df.head()\n"
   ]
  },
  {
   "cell_type": "code",
   "execution_count": 11,
   "metadata": {},
   "outputs": [],
   "source": [
    "# determine language of each conversation\n",
    "languages = []\n",
    "for value in df[\"values\"]:\n",
    "    try:\n",
    "        lang = detect(value[0])\n",
    "        languages.append(lang)\n",
    "    except:\n",
    "        try:\n",
    "            lang = detect(value[1])\n",
    "            languages.append(lang)\n",
    "        except:\n",
    "            print(\"error2\")\n",
    "            print(value[1])\n",
    "\n",
    "\n",
    "df[\"lang\"] = languages\n"
   ]
  },
  {
   "cell_type": "code",
   "execution_count": 12,
   "metadata": {},
   "outputs": [
    {
     "data": {
      "text/html": [
       "<div>\n",
       "<style scoped>\n",
       "    .dataframe tbody tr th:only-of-type {\n",
       "        vertical-align: middle;\n",
       "    }\n",
       "\n",
       "    .dataframe tbody tr th {\n",
       "        vertical-align: top;\n",
       "    }\n",
       "\n",
       "    .dataframe thead th {\n",
       "        text-align: right;\n",
       "    }\n",
       "</style>\n",
       "<table border=\"1\" class=\"dataframe\">\n",
       "  <thead>\n",
       "    <tr style=\"text-align: right;\">\n",
       "      <th></th>\n",
       "      <th>id</th>\n",
       "      <th>conversations</th>\n",
       "      <th>text</th>\n",
       "      <th>values</th>\n",
       "      <th>lang</th>\n",
       "    </tr>\n",
       "  </thead>\n",
       "  <tbody>\n",
       "    <tr>\n",
       "      <th>0</th>\n",
       "      <td>Og9h3C1</td>\n",
       "      <td>[{'from': 'human', 'value': \"root@openvpn:/hom...</td>\n",
       "      <td>root@openvpn:/home/openvpn# ./openvpn-install....</td>\n",
       "      <td>[root@openvpn:/home/openvpn# ./openvpn-install...</td>\n",
       "      <td>en</td>\n",
       "    </tr>\n",
       "    <tr>\n",
       "      <th>1</th>\n",
       "      <td>A5AbcES</td>\n",
       "      <td>[{'from': 'human', 'value': 'In Java, I want t...</td>\n",
       "      <td>In Java, I want to replace string like \"This i...</td>\n",
       "      <td>[In Java, I want to replace string like \"This ...</td>\n",
       "      <td>en</td>\n",
       "    </tr>\n",
       "    <tr>\n",
       "      <th>2</th>\n",
       "      <td>IWkMGRK</td>\n",
       "      <td>[{'from': 'human', 'value': 'I have the follow...</td>\n",
       "      <td>I have the following C++ function: \\nvoid add_...</td>\n",
       "      <td>[I have the following C++ function: \\nvoid add...</td>\n",
       "      <td>en</td>\n",
       "    </tr>\n",
       "    <tr>\n",
       "      <th>3</th>\n",
       "      <td>HskFS9I</td>\n",
       "      <td>[{'from': 'human', 'value': '1 / 1como crear u...</td>\n",
       "      <td>1 / 1como crear un rol para kuberntes y dar so...</td>\n",
       "      <td>[1 / 1como crear un rol para kuberntes y dar s...</td>\n",
       "      <td>es</td>\n",
       "    </tr>\n",
       "    <tr>\n",
       "      <th>4</th>\n",
       "      <td>yn2eWCt</td>\n",
       "      <td>[{'from': 'human', 'value': 'how do I add mult...</td>\n",
       "      <td>how do I add multiple new columns in m for pow...</td>\n",
       "      <td>[how do I add multiple new columns in m for po...</td>\n",
       "      <td>en</td>\n",
       "    </tr>\n",
       "  </tbody>\n",
       "</table>\n",
       "</div>"
      ],
      "text/plain": [
       "        id                                      conversations  \\\n",
       "0  Og9h3C1  [{'from': 'human', 'value': \"root@openvpn:/hom...   \n",
       "1  A5AbcES  [{'from': 'human', 'value': 'In Java, I want t...   \n",
       "2  IWkMGRK  [{'from': 'human', 'value': 'I have the follow...   \n",
       "3  HskFS9I  [{'from': 'human', 'value': '1 / 1como crear u...   \n",
       "4  yn2eWCt  [{'from': 'human', 'value': 'how do I add mult...   \n",
       "\n",
       "                                                text  \\\n",
       "0  root@openvpn:/home/openvpn# ./openvpn-install....   \n",
       "1  In Java, I want to replace string like \"This i...   \n",
       "2  I have the following C++ function: \\nvoid add_...   \n",
       "3  1 / 1como crear un rol para kuberntes y dar so...   \n",
       "4  how do I add multiple new columns in m for pow...   \n",
       "\n",
       "                                              values lang  \n",
       "0  [root@openvpn:/home/openvpn# ./openvpn-install...   en  \n",
       "1  [In Java, I want to replace string like \"This ...   en  \n",
       "2  [I have the following C++ function: \\nvoid add...   en  \n",
       "3  [1 / 1como crear un rol para kuberntes y dar s...   es  \n",
       "4  [how do I add multiple new columns in m for po...   en  "
      ]
     },
     "execution_count": 12,
     "metadata": {},
     "output_type": "execute_result"
    }
   ],
   "source": [
    "df.head()"
   ]
  },
  {
   "cell_type": "code",
   "execution_count": null,
   "metadata": {},
   "outputs": [],
   "source": [
    "df_shortened = df[['id', 'values', 'lang']]\n",
    "df_shortened.to_csv('file_name.csv', index=False, encoding='utf-8')\n"
   ]
  },
  {
   "cell_type": "code",
   "execution_count": 13,
   "metadata": {},
   "outputs": [
    {
     "data": {
      "text/plain": [
       "lang\n",
       "en       18359\n",
       "ko         827\n",
       "zh-cn      618\n",
       "fr         533\n",
       "es         455\n",
       "ja         242\n",
       "ca         201\n",
       "it         179\n",
       "pt         166\n",
       "vi         160\n",
       "de         148\n",
       "no         126\n",
       "ru         125\n",
       "nl         125\n",
       "ro         117\n",
       "sw          89\n",
       "et          79\n",
       "zh-tw       74\n",
       "af          61\n",
       "fi          60\n",
       "cy          58\n",
       "id          58\n",
       "pl          54\n",
       "da          53\n",
       "tl          41\n",
       "sv          37\n",
       "tr          30\n",
       "so          28\n",
       "hr          28\n",
       "sk          23\n",
       "sl          20\n",
       "uk          19\n",
       "th          16\n",
       "cs          13\n",
       "lt          11\n",
       "he           9\n",
       "bg           8\n",
       "hu           7\n",
       "sq           6\n",
       "mk           5\n",
       "fa           3\n",
       "lv           2\n",
       "ar           2\n",
       "el           2\n",
       "Name: count, dtype: int64"
      ]
     },
     "execution_count": 13,
     "metadata": {},
     "output_type": "execute_result"
    }
   ],
   "source": [
    "df[\"lang\"].value_counts()"
   ]
  },
  {
   "cell_type": "code",
   "execution_count": 36,
   "metadata": {},
   "outputs": [],
   "source": [
    "df['translated_column_test'] = np.nan"
   ]
  },
  {
   "cell_type": "code",
   "execution_count": 14,
   "metadata": {},
   "outputs": [
    {
     "name": "stdout",
     "output_type": "stream",
     "text": [
      "Attempt 1 failed: Invalid input ConnectionInputs.RECV_PING in state ConnectionState.CLOSED\n",
      "Attempt 1 failed: \n",
      "Attempt 1 failed: \n",
      "Attempt 2 failed: \n"
     ]
    },
    {
     "ename": "CancelledError",
     "evalue": "",
     "output_type": "error",
     "traceback": [
      "\u001b[31m---------------------------------------------------------------------------\u001b[39m",
      "\u001b[31mCancelledError\u001b[39m                            Traceback (most recent call last)",
      "\u001b[36mCell\u001b[39m\u001b[36m \u001b[39m\u001b[32mIn[14]\u001b[39m\u001b[32m, line 46\u001b[39m\n\u001b[32m     42\u001b[39m     translated_conversation.append(result)\n\u001b[32m     44\u001b[39m \u001b[38;5;28;01melse\u001b[39;00m:\n\u001b[32m     45\u001b[39m     \u001b[38;5;66;03m# result = await translate(element)\u001b[39;00m\n\u001b[32m---> \u001b[39m\u001b[32m46\u001b[39m     result = \u001b[38;5;28;01mawait\u001b[39;00m repeat_until_success(translate, element)\n\u001b[32m     47\u001b[39m     \u001b[38;5;28;01mif\u001b[39;00m result \u001b[38;5;129;01mis\u001b[39;00m \u001b[38;5;129;01mnot\u001b[39;00m \u001b[38;5;28;01mNone\u001b[39;00m:\n\u001b[32m     48\u001b[39m         translated_conversation.append(result.text)\n",
      "\u001b[36mCell\u001b[39m\u001b[36m \u001b[39m\u001b[32mIn[14]\u001b[39m\u001b[32m, line 12\u001b[39m, in \u001b[36mrepeat_until_success\u001b[39m\u001b[34m(action, text, max_attempts)\u001b[39m\n\u001b[32m     10\u001b[39m \u001b[38;5;28;01mwhile\u001b[39;00m attempts < max_attempts:\n\u001b[32m     11\u001b[39m     \u001b[38;5;28;01mtry\u001b[39;00m:\n\u001b[32m---> \u001b[39m\u001b[32m12\u001b[39m         result = \u001b[38;5;28;01mawait\u001b[39;00m action(text)\n\u001b[32m     13\u001b[39m         \u001b[38;5;28;01mreturn\u001b[39;00m result  \u001b[38;5;66;03m# Successful execution, return the result\u001b[39;00m\n\u001b[32m     14\u001b[39m     \u001b[38;5;28;01mexcept\u001b[39;00m \u001b[38;5;167;01mException\u001b[39;00m \u001b[38;5;28;01mas\u001b[39;00m e:\n",
      "\u001b[36mCell\u001b[39m\u001b[36m \u001b[39m\u001b[32mIn[14]\u001b[39m\u001b[32m, line 4\u001b[39m, in \u001b[36mtranslate\u001b[39m\u001b[34m(value)\u001b[39m\n\u001b[32m      3\u001b[39m \u001b[38;5;28;01masync\u001b[39;00m \u001b[38;5;28;01mdef\u001b[39;00m\u001b[38;5;250m \u001b[39m\u001b[34mtranslate\u001b[39m(value):\n\u001b[32m----> \u001b[39m\u001b[32m4\u001b[39m       result = \u001b[38;5;28;01mawait\u001b[39;00m translator.translate(value, dest=\u001b[33m\"\u001b[39m\u001b[33men\u001b[39m\u001b[33m\"\u001b[39m)\n\u001b[32m      5\u001b[39m       \u001b[38;5;28;01mreturn\u001b[39;00m result\n",
      "\u001b[36mFile \u001b[39m\u001b[32mc:\\Users\\miche_5jfxoli\\AppData\\Local\\Programs\\Python\\Python311\\Lib\\site-packages\\googletrans\\client.py:286\u001b[39m, in \u001b[36mTranslator.translate\u001b[39m\u001b[34m(self, text, dest, src, **kwargs)\u001b[39m\n\u001b[32m    283\u001b[39m     \u001b[38;5;28;01mreturn\u001b[39;00m result\n\u001b[32m    285\u001b[39m origin = text\n\u001b[32m--> \u001b[39m\u001b[32m286\u001b[39m data, response = \u001b[38;5;28;01mawait\u001b[39;00m \u001b[38;5;28mself\u001b[39m._translate(text, dest, src, kwargs)\n\u001b[32m    288\u001b[39m \u001b[38;5;66;03m# this code will be updated when the format is changed.\u001b[39;00m\n\u001b[32m    289\u001b[39m translated = \u001b[33m\"\u001b[39m\u001b[33m\"\u001b[39m.join([d[\u001b[32m0\u001b[39m] \u001b[38;5;28;01mif\u001b[39;00m d[\u001b[32m0\u001b[39m] \u001b[38;5;28;01melse\u001b[39;00m \u001b[33m\"\u001b[39m\u001b[33m\"\u001b[39m \u001b[38;5;28;01mfor\u001b[39;00m d \u001b[38;5;129;01min\u001b[39;00m data[\u001b[32m0\u001b[39m]])\n",
      "\u001b[36mFile \u001b[39m\u001b[32mc:\\Users\\miche_5jfxoli\\AppData\\Local\\Programs\\Python\\Python311\\Lib\\site-packages\\googletrans\\client.py:128\u001b[39m, in \u001b[36mTranslator._translate\u001b[39m\u001b[34m(self, text, dest, src, override)\u001b[39m\n\u001b[32m    118\u001b[39m params = utils.build_params(\n\u001b[32m    119\u001b[39m     client=\u001b[38;5;28mself\u001b[39m.client_type,\n\u001b[32m    120\u001b[39m     query=text,\n\u001b[32m   (...)\u001b[39m\u001b[32m    124\u001b[39m     override=override,\n\u001b[32m    125\u001b[39m )\n\u001b[32m    127\u001b[39m url = urls.TRANSLATE.format(host=\u001b[38;5;28mself\u001b[39m._pick_service_url())\n\u001b[32m--> \u001b[39m\u001b[32m128\u001b[39m r = \u001b[38;5;28;01mawait\u001b[39;00m \u001b[38;5;28mself\u001b[39m.client.get(url, params=params)\n\u001b[32m    130\u001b[39m \u001b[38;5;28;01mif\u001b[39;00m r.status_code == \u001b[32m200\u001b[39m:\n\u001b[32m    131\u001b[39m     data = utils.format_json(r.text)\n",
      "\u001b[36mFile \u001b[39m\u001b[32mc:\\Users\\miche_5jfxoli\\AppData\\Local\\Programs\\Python\\Python311\\Lib\\site-packages\\httpx\\_client.py:1768\u001b[39m, in \u001b[36mAsyncClient.get\u001b[39m\u001b[34m(self, url, params, headers, cookies, auth, follow_redirects, timeout, extensions)\u001b[39m\n\u001b[32m   1751\u001b[39m \u001b[38;5;28;01masync\u001b[39;00m \u001b[38;5;28;01mdef\u001b[39;00m\u001b[38;5;250m \u001b[39m\u001b[34mget\u001b[39m(\n\u001b[32m   1752\u001b[39m     \u001b[38;5;28mself\u001b[39m,\n\u001b[32m   1753\u001b[39m     url: URL | \u001b[38;5;28mstr\u001b[39m,\n\u001b[32m   (...)\u001b[39m\u001b[32m   1761\u001b[39m     extensions: RequestExtensions | \u001b[38;5;28;01mNone\u001b[39;00m = \u001b[38;5;28;01mNone\u001b[39;00m,\n\u001b[32m   1762\u001b[39m ) -> Response:\n\u001b[32m   1763\u001b[39m \u001b[38;5;250m    \u001b[39m\u001b[33;03m\"\"\"\u001b[39;00m\n\u001b[32m   1764\u001b[39m \u001b[33;03m    Send a `GET` request.\u001b[39;00m\n\u001b[32m   1765\u001b[39m \n\u001b[32m   1766\u001b[39m \u001b[33;03m    **Parameters**: See `httpx.request`.\u001b[39;00m\n\u001b[32m   1767\u001b[39m \u001b[33;03m    \"\"\"\u001b[39;00m\n\u001b[32m-> \u001b[39m\u001b[32m1768\u001b[39m     \u001b[38;5;28;01mreturn\u001b[39;00m \u001b[38;5;28;01mawait\u001b[39;00m \u001b[38;5;28mself\u001b[39m.request(\n\u001b[32m   1769\u001b[39m         \u001b[33m\"\u001b[39m\u001b[33mGET\u001b[39m\u001b[33m\"\u001b[39m,\n\u001b[32m   1770\u001b[39m         url,\n\u001b[32m   1771\u001b[39m         params=params,\n\u001b[32m   1772\u001b[39m         headers=headers,\n\u001b[32m   1773\u001b[39m         cookies=cookies,\n\u001b[32m   1774\u001b[39m         auth=auth,\n\u001b[32m   1775\u001b[39m         follow_redirects=follow_redirects,\n\u001b[32m   1776\u001b[39m         timeout=timeout,\n\u001b[32m   1777\u001b[39m         extensions=extensions,\n\u001b[32m   1778\u001b[39m     )\n",
      "\u001b[36mFile \u001b[39m\u001b[32mc:\\Users\\miche_5jfxoli\\AppData\\Local\\Programs\\Python\\Python311\\Lib\\site-packages\\httpx\\_client.py:1540\u001b[39m, in \u001b[36mAsyncClient.request\u001b[39m\u001b[34m(self, method, url, content, data, files, json, params, headers, cookies, auth, follow_redirects, timeout, extensions)\u001b[39m\n\u001b[32m   1525\u001b[39m     warnings.warn(message, \u001b[38;5;167;01mDeprecationWarning\u001b[39;00m, stacklevel=\u001b[32m2\u001b[39m)\n\u001b[32m   1527\u001b[39m request = \u001b[38;5;28mself\u001b[39m.build_request(\n\u001b[32m   1528\u001b[39m     method=method,\n\u001b[32m   1529\u001b[39m     url=url,\n\u001b[32m   (...)\u001b[39m\u001b[32m   1538\u001b[39m     extensions=extensions,\n\u001b[32m   1539\u001b[39m )\n\u001b[32m-> \u001b[39m\u001b[32m1540\u001b[39m \u001b[38;5;28;01mreturn\u001b[39;00m \u001b[38;5;28;01mawait\u001b[39;00m \u001b[38;5;28mself\u001b[39m.send(request, auth=auth, follow_redirects=follow_redirects)\n",
      "\u001b[36mFile \u001b[39m\u001b[32mc:\\Users\\miche_5jfxoli\\AppData\\Local\\Programs\\Python\\Python311\\Lib\\site-packages\\httpx\\_client.py:1629\u001b[39m, in \u001b[36mAsyncClient.send\u001b[39m\u001b[34m(self, request, stream, auth, follow_redirects)\u001b[39m\n\u001b[32m   1625\u001b[39m \u001b[38;5;28mself\u001b[39m._set_timeout(request)\n\u001b[32m   1627\u001b[39m auth = \u001b[38;5;28mself\u001b[39m._build_request_auth(request, auth)\n\u001b[32m-> \u001b[39m\u001b[32m1629\u001b[39m response = \u001b[38;5;28;01mawait\u001b[39;00m \u001b[38;5;28mself\u001b[39m._send_handling_auth(\n\u001b[32m   1630\u001b[39m     request,\n\u001b[32m   1631\u001b[39m     auth=auth,\n\u001b[32m   1632\u001b[39m     follow_redirects=follow_redirects,\n\u001b[32m   1633\u001b[39m     history=[],\n\u001b[32m   1634\u001b[39m )\n\u001b[32m   1635\u001b[39m \u001b[38;5;28;01mtry\u001b[39;00m:\n\u001b[32m   1636\u001b[39m     \u001b[38;5;28;01mif\u001b[39;00m \u001b[38;5;129;01mnot\u001b[39;00m stream:\n",
      "\u001b[36mFile \u001b[39m\u001b[32mc:\\Users\\miche_5jfxoli\\AppData\\Local\\Programs\\Python\\Python311\\Lib\\site-packages\\httpx\\_client.py:1657\u001b[39m, in \u001b[36mAsyncClient._send_handling_auth\u001b[39m\u001b[34m(self, request, auth, follow_redirects, history)\u001b[39m\n\u001b[32m   1654\u001b[39m request = \u001b[38;5;28;01mawait\u001b[39;00m auth_flow.\u001b[34m__anext__\u001b[39m()\n\u001b[32m   1656\u001b[39m \u001b[38;5;28;01mwhile\u001b[39;00m \u001b[38;5;28;01mTrue\u001b[39;00m:\n\u001b[32m-> \u001b[39m\u001b[32m1657\u001b[39m     response = \u001b[38;5;28;01mawait\u001b[39;00m \u001b[38;5;28mself\u001b[39m._send_handling_redirects(\n\u001b[32m   1658\u001b[39m         request,\n\u001b[32m   1659\u001b[39m         follow_redirects=follow_redirects,\n\u001b[32m   1660\u001b[39m         history=history,\n\u001b[32m   1661\u001b[39m     )\n\u001b[32m   1662\u001b[39m     \u001b[38;5;28;01mtry\u001b[39;00m:\n\u001b[32m   1663\u001b[39m         \u001b[38;5;28;01mtry\u001b[39;00m:\n",
      "\u001b[36mFile \u001b[39m\u001b[32mc:\\Users\\miche_5jfxoli\\AppData\\Local\\Programs\\Python\\Python311\\Lib\\site-packages\\httpx\\_client.py:1694\u001b[39m, in \u001b[36mAsyncClient._send_handling_redirects\u001b[39m\u001b[34m(self, request, follow_redirects, history)\u001b[39m\n\u001b[32m   1691\u001b[39m \u001b[38;5;28;01mfor\u001b[39;00m hook \u001b[38;5;129;01min\u001b[39;00m \u001b[38;5;28mself\u001b[39m._event_hooks[\u001b[33m\"\u001b[39m\u001b[33mrequest\u001b[39m\u001b[33m\"\u001b[39m]:\n\u001b[32m   1692\u001b[39m     \u001b[38;5;28;01mawait\u001b[39;00m hook(request)\n\u001b[32m-> \u001b[39m\u001b[32m1694\u001b[39m response = \u001b[38;5;28;01mawait\u001b[39;00m \u001b[38;5;28mself\u001b[39m._send_single_request(request)\n\u001b[32m   1695\u001b[39m \u001b[38;5;28;01mtry\u001b[39;00m:\n\u001b[32m   1696\u001b[39m     \u001b[38;5;28;01mfor\u001b[39;00m hook \u001b[38;5;129;01min\u001b[39;00m \u001b[38;5;28mself\u001b[39m._event_hooks[\u001b[33m\"\u001b[39m\u001b[33mresponse\u001b[39m\u001b[33m\"\u001b[39m]:\n",
      "\u001b[36mFile \u001b[39m\u001b[32mc:\\Users\\miche_5jfxoli\\AppData\\Local\\Programs\\Python\\Python311\\Lib\\site-packages\\httpx\\_client.py:1730\u001b[39m, in \u001b[36mAsyncClient._send_single_request\u001b[39m\u001b[34m(self, request)\u001b[39m\n\u001b[32m   1725\u001b[39m     \u001b[38;5;28;01mraise\u001b[39;00m \u001b[38;5;167;01mRuntimeError\u001b[39;00m(\n\u001b[32m   1726\u001b[39m         \u001b[33m\"\u001b[39m\u001b[33mAttempted to send an sync request with an AsyncClient instance.\u001b[39m\u001b[33m\"\u001b[39m\n\u001b[32m   1727\u001b[39m     )\n\u001b[32m   1729\u001b[39m \u001b[38;5;28;01mwith\u001b[39;00m request_context(request=request):\n\u001b[32m-> \u001b[39m\u001b[32m1730\u001b[39m     response = \u001b[38;5;28;01mawait\u001b[39;00m transport.handle_async_request(request)\n\u001b[32m   1732\u001b[39m \u001b[38;5;28;01massert\u001b[39;00m \u001b[38;5;28misinstance\u001b[39m(response.stream, AsyncByteStream)\n\u001b[32m   1733\u001b[39m response.request = request\n",
      "\u001b[36mFile \u001b[39m\u001b[32mc:\\Users\\miche_5jfxoli\\AppData\\Local\\Programs\\Python\\Python311\\Lib\\site-packages\\httpx\\_transports\\default.py:394\u001b[39m, in \u001b[36mAsyncHTTPTransport.handle_async_request\u001b[39m\u001b[34m(self, request)\u001b[39m\n\u001b[32m    381\u001b[39m req = httpcore.Request(\n\u001b[32m    382\u001b[39m     method=request.method,\n\u001b[32m    383\u001b[39m     url=httpcore.URL(\n\u001b[32m   (...)\u001b[39m\u001b[32m    391\u001b[39m     extensions=request.extensions,\n\u001b[32m    392\u001b[39m )\n\u001b[32m    393\u001b[39m \u001b[38;5;28;01mwith\u001b[39;00m map_httpcore_exceptions():\n\u001b[32m--> \u001b[39m\u001b[32m394\u001b[39m     resp = \u001b[38;5;28;01mawait\u001b[39;00m \u001b[38;5;28mself\u001b[39m._pool.handle_async_request(req)\n\u001b[32m    396\u001b[39m \u001b[38;5;28;01massert\u001b[39;00m \u001b[38;5;28misinstance\u001b[39m(resp.stream, typing.AsyncIterable)\n\u001b[32m    398\u001b[39m \u001b[38;5;28;01mreturn\u001b[39;00m Response(\n\u001b[32m    399\u001b[39m     status_code=resp.status,\n\u001b[32m    400\u001b[39m     headers=resp.headers,\n\u001b[32m    401\u001b[39m     stream=AsyncResponseStream(resp.stream),\n\u001b[32m    402\u001b[39m     extensions=resp.extensions,\n\u001b[32m    403\u001b[39m )\n",
      "\u001b[36mFile \u001b[39m\u001b[32mc:\\Users\\miche_5jfxoli\\AppData\\Local\\Programs\\Python\\Python311\\Lib\\site-packages\\httpcore\\_async\\connection_pool.py:256\u001b[39m, in \u001b[36mAsyncConnectionPool.handle_async_request\u001b[39m\u001b[34m(self, request)\u001b[39m\n\u001b[32m    253\u001b[39m         closing = \u001b[38;5;28mself\u001b[39m._assign_requests_to_connections()\n\u001b[32m    255\u001b[39m     \u001b[38;5;28;01mawait\u001b[39;00m \u001b[38;5;28mself\u001b[39m._close_connections(closing)\n\u001b[32m--> \u001b[39m\u001b[32m256\u001b[39m     \u001b[38;5;28;01mraise\u001b[39;00m exc \u001b[38;5;28;01mfrom\u001b[39;00m\u001b[38;5;250m \u001b[39m\u001b[38;5;28;01mNone\u001b[39;00m\n\u001b[32m    258\u001b[39m \u001b[38;5;66;03m# Return the response. Note that in this case we still have to manage\u001b[39;00m\n\u001b[32m    259\u001b[39m \u001b[38;5;66;03m# the point at which the response is closed.\u001b[39;00m\n\u001b[32m    260\u001b[39m \u001b[38;5;28;01massert\u001b[39;00m \u001b[38;5;28misinstance\u001b[39m(response.stream, typing.AsyncIterable)\n",
      "\u001b[36mFile \u001b[39m\u001b[32mc:\\Users\\miche_5jfxoli\\AppData\\Local\\Programs\\Python\\Python311\\Lib\\site-packages\\httpcore\\_async\\connection_pool.py:236\u001b[39m, in \u001b[36mAsyncConnectionPool.handle_async_request\u001b[39m\u001b[34m(self, request)\u001b[39m\n\u001b[32m    232\u001b[39m connection = \u001b[38;5;28;01mawait\u001b[39;00m pool_request.wait_for_connection(timeout=timeout)\n\u001b[32m    234\u001b[39m \u001b[38;5;28;01mtry\u001b[39;00m:\n\u001b[32m    235\u001b[39m     \u001b[38;5;66;03m# Send the request on the assigned connection.\u001b[39;00m\n\u001b[32m--> \u001b[39m\u001b[32m236\u001b[39m     response = \u001b[38;5;28;01mawait\u001b[39;00m connection.handle_async_request(\n\u001b[32m    237\u001b[39m         pool_request.request\n\u001b[32m    238\u001b[39m     )\n\u001b[32m    239\u001b[39m \u001b[38;5;28;01mexcept\u001b[39;00m ConnectionNotAvailable:\n\u001b[32m    240\u001b[39m     \u001b[38;5;66;03m# In some cases a connection may initially be available to\u001b[39;00m\n\u001b[32m    241\u001b[39m     \u001b[38;5;66;03m# handle a request, but then become unavailable.\u001b[39;00m\n\u001b[32m    242\u001b[39m     \u001b[38;5;66;03m#\u001b[39;00m\n\u001b[32m    243\u001b[39m     \u001b[38;5;66;03m# In this case we clear the connection and try again.\u001b[39;00m\n\u001b[32m    244\u001b[39m     pool_request.clear_connection()\n",
      "\u001b[36mFile \u001b[39m\u001b[32mc:\\Users\\miche_5jfxoli\\AppData\\Local\\Programs\\Python\\Python311\\Lib\\site-packages\\httpcore\\_async\\connection.py:103\u001b[39m, in \u001b[36mAsyncHTTPConnection.handle_async_request\u001b[39m\u001b[34m(self, request)\u001b[39m\n\u001b[32m    100\u001b[39m     \u001b[38;5;28mself\u001b[39m._connect_failed = \u001b[38;5;28;01mTrue\u001b[39;00m\n\u001b[32m    101\u001b[39m     \u001b[38;5;28;01mraise\u001b[39;00m exc\n\u001b[32m--> \u001b[39m\u001b[32m103\u001b[39m \u001b[38;5;28;01mreturn\u001b[39;00m \u001b[38;5;28;01mawait\u001b[39;00m \u001b[38;5;28mself\u001b[39m._connection.handle_async_request(request)\n",
      "\u001b[36mFile \u001b[39m\u001b[32mc:\\Users\\miche_5jfxoli\\AppData\\Local\\Programs\\Python\\Python311\\Lib\\site-packages\\httpcore\\_async\\http2.py:183\u001b[39m, in \u001b[36mAsyncHTTP2Connection.handle_async_request\u001b[39m\u001b[34m(self, request)\u001b[39m\n\u001b[32m    179\u001b[39m     \u001b[38;5;66;03m# If h2 raises a protocol error in some other state then we\u001b[39;00m\n\u001b[32m    180\u001b[39m     \u001b[38;5;66;03m# must somehow have made a protocol violation.\u001b[39;00m\n\u001b[32m    181\u001b[39m     \u001b[38;5;28;01mraise\u001b[39;00m LocalProtocolError(exc)  \u001b[38;5;66;03m# pragma: nocover\u001b[39;00m\n\u001b[32m--> \u001b[39m\u001b[32m183\u001b[39m \u001b[38;5;28;01mraise\u001b[39;00m exc\n",
      "\u001b[36mFile \u001b[39m\u001b[32mc:\\Users\\miche_5jfxoli\\AppData\\Local\\Programs\\Python\\Python311\\Lib\\site-packages\\httpcore\\_async\\http2.py:146\u001b[39m, in \u001b[36mAsyncHTTP2Connection.handle_async_request\u001b[39m\u001b[34m(self, request)\u001b[39m\n\u001b[32m    142\u001b[39m     \u001b[38;5;28;01mawait\u001b[39;00m \u001b[38;5;28mself\u001b[39m._send_request_body(request=request, stream_id=stream_id)\n\u001b[32m    143\u001b[39m \u001b[38;5;28;01masync\u001b[39;00m \u001b[38;5;28;01mwith\u001b[39;00m Trace(\n\u001b[32m    144\u001b[39m     \u001b[33m\"\u001b[39m\u001b[33mreceive_response_headers\u001b[39m\u001b[33m\"\u001b[39m, logger, request, kwargs\n\u001b[32m    145\u001b[39m ) \u001b[38;5;28;01mas\u001b[39;00m trace:\n\u001b[32m--> \u001b[39m\u001b[32m146\u001b[39m     status, headers = \u001b[38;5;28;01mawait\u001b[39;00m \u001b[38;5;28mself\u001b[39m._receive_response(\n\u001b[32m    147\u001b[39m         request=request, stream_id=stream_id\n\u001b[32m    148\u001b[39m     )\n\u001b[32m    149\u001b[39m     trace.return_value = (status, headers)\n\u001b[32m    151\u001b[39m \u001b[38;5;28;01mreturn\u001b[39;00m Response(\n\u001b[32m    152\u001b[39m     status=status,\n\u001b[32m    153\u001b[39m     headers=headers,\n\u001b[32m   (...)\u001b[39m\u001b[32m    159\u001b[39m     },\n\u001b[32m    160\u001b[39m )\n",
      "\u001b[36mFile \u001b[39m\u001b[32mc:\\Users\\miche_5jfxoli\\AppData\\Local\\Programs\\Python\\Python311\\Lib\\site-packages\\httpcore\\_async\\http2.py:290\u001b[39m, in \u001b[36mAsyncHTTP2Connection._receive_response\u001b[39m\u001b[34m(self, request, stream_id)\u001b[39m\n\u001b[32m    286\u001b[39m \u001b[38;5;250m\u001b[39m\u001b[33;03m\"\"\"\u001b[39;00m\n\u001b[32m    287\u001b[39m \u001b[33;03mReturn the response status code and headers for a given stream ID.\u001b[39;00m\n\u001b[32m    288\u001b[39m \u001b[33;03m\"\"\"\u001b[39;00m\n\u001b[32m    289\u001b[39m \u001b[38;5;28;01mwhile\u001b[39;00m \u001b[38;5;28;01mTrue\u001b[39;00m:\n\u001b[32m--> \u001b[39m\u001b[32m290\u001b[39m     event = \u001b[38;5;28;01mawait\u001b[39;00m \u001b[38;5;28mself\u001b[39m._receive_stream_event(request, stream_id)\n\u001b[32m    291\u001b[39m     \u001b[38;5;28;01mif\u001b[39;00m \u001b[38;5;28misinstance\u001b[39m(event, h2.events.ResponseReceived):\n\u001b[32m    292\u001b[39m         \u001b[38;5;28;01mbreak\u001b[39;00m\n",
      "\u001b[36mFile \u001b[39m\u001b[32mc:\\Users\\miche_5jfxoli\\AppData\\Local\\Programs\\Python\\Python311\\Lib\\site-packages\\httpcore\\_async\\http2.py:329\u001b[39m, in \u001b[36mAsyncHTTP2Connection._receive_stream_event\u001b[39m\u001b[34m(self, request, stream_id)\u001b[39m\n\u001b[32m    323\u001b[39m \u001b[38;5;250m\u001b[39m\u001b[33;03m\"\"\"\u001b[39;00m\n\u001b[32m    324\u001b[39m \u001b[33;03mReturn the next available event for a given stream ID.\u001b[39;00m\n\u001b[32m    325\u001b[39m \n\u001b[32m    326\u001b[39m \u001b[33;03mWill read more data from the network if required.\u001b[39;00m\n\u001b[32m    327\u001b[39m \u001b[33;03m\"\"\"\u001b[39;00m\n\u001b[32m    328\u001b[39m \u001b[38;5;28;01mwhile\u001b[39;00m \u001b[38;5;129;01mnot\u001b[39;00m \u001b[38;5;28mself\u001b[39m._events.get(stream_id):\n\u001b[32m--> \u001b[39m\u001b[32m329\u001b[39m     \u001b[38;5;28;01mawait\u001b[39;00m \u001b[38;5;28mself\u001b[39m._receive_events(request, stream_id)\n\u001b[32m    330\u001b[39m event = \u001b[38;5;28mself\u001b[39m._events[stream_id].pop(\u001b[32m0\u001b[39m)\n\u001b[32m    331\u001b[39m \u001b[38;5;28;01mif\u001b[39;00m \u001b[38;5;28misinstance\u001b[39m(event, h2.events.StreamReset):\n",
      "\u001b[36mFile \u001b[39m\u001b[32mc:\\Users\\miche_5jfxoli\\AppData\\Local\\Programs\\Python\\Python311\\Lib\\site-packages\\httpcore\\_async\\http2.py:357\u001b[39m, in \u001b[36mAsyncHTTP2Connection._receive_events\u001b[39m\u001b[34m(self, request, stream_id)\u001b[39m\n\u001b[32m    350\u001b[39m \u001b[38;5;66;03m# This conditional is a bit icky. We don't want to block reading if we've\u001b[39;00m\n\u001b[32m    351\u001b[39m \u001b[38;5;66;03m# actually got an event to return for a given stream. We need to do that\u001b[39;00m\n\u001b[32m    352\u001b[39m \u001b[38;5;66;03m# check *within* the atomic read lock. Though it also need to be optional,\u001b[39;00m\n\u001b[32m    353\u001b[39m \u001b[38;5;66;03m# because when we call it from `_wait_for_outgoing_flow` we *do* want to\u001b[39;00m\n\u001b[32m    354\u001b[39m \u001b[38;5;66;03m# block until we've available flow control, event when we have events\u001b[39;00m\n\u001b[32m    355\u001b[39m \u001b[38;5;66;03m# pending for the stream ID we're attempting to send on.\u001b[39;00m\n\u001b[32m    356\u001b[39m \u001b[38;5;28;01mif\u001b[39;00m stream_id \u001b[38;5;129;01mis\u001b[39;00m \u001b[38;5;28;01mNone\u001b[39;00m \u001b[38;5;129;01mor\u001b[39;00m \u001b[38;5;129;01mnot\u001b[39;00m \u001b[38;5;28mself\u001b[39m._events.get(stream_id):\n\u001b[32m--> \u001b[39m\u001b[32m357\u001b[39m     events = \u001b[38;5;28;01mawait\u001b[39;00m \u001b[38;5;28mself\u001b[39m._read_incoming_data(request)\n\u001b[32m    358\u001b[39m     \u001b[38;5;28;01mfor\u001b[39;00m event \u001b[38;5;129;01min\u001b[39;00m events:\n\u001b[32m    359\u001b[39m         \u001b[38;5;28;01mif\u001b[39;00m \u001b[38;5;28misinstance\u001b[39m(event, h2.events.RemoteSettingsChanged):\n",
      "\u001b[36mFile \u001b[39m\u001b[32mc:\\Users\\miche_5jfxoli\\AppData\\Local\\Programs\\Python\\Python311\\Lib\\site-packages\\httpcore\\_async\\http2.py:432\u001b[39m, in \u001b[36mAsyncHTTP2Connection._read_incoming_data\u001b[39m\u001b[34m(self, request)\u001b[39m\n\u001b[32m    429\u001b[39m     \u001b[38;5;28;01mraise\u001b[39;00m \u001b[38;5;28mself\u001b[39m._read_exception  \u001b[38;5;66;03m# pragma: nocover\u001b[39;00m\n\u001b[32m    431\u001b[39m \u001b[38;5;28;01mtry\u001b[39;00m:\n\u001b[32m--> \u001b[39m\u001b[32m432\u001b[39m     data = \u001b[38;5;28;01mawait\u001b[39;00m \u001b[38;5;28mself\u001b[39m._network_stream.read(\u001b[38;5;28mself\u001b[39m.READ_NUM_BYTES, timeout)\n\u001b[32m    433\u001b[39m     \u001b[38;5;28;01mif\u001b[39;00m data == \u001b[33mb\u001b[39m\u001b[33m\"\u001b[39m\u001b[33m\"\u001b[39m:\n\u001b[32m    434\u001b[39m         \u001b[38;5;28;01mraise\u001b[39;00m RemoteProtocolError(\u001b[33m\"\u001b[39m\u001b[33mServer disconnected\u001b[39m\u001b[33m\"\u001b[39m)\n",
      "\u001b[36mFile \u001b[39m\u001b[32mc:\\Users\\miche_5jfxoli\\AppData\\Local\\Programs\\Python\\Python311\\Lib\\site-packages\\httpcore\\_backends\\anyio.py:35\u001b[39m, in \u001b[36mAnyIOStream.read\u001b[39m\u001b[34m(self, max_bytes, timeout)\u001b[39m\n\u001b[32m     33\u001b[39m \u001b[38;5;28;01mwith\u001b[39;00m anyio.fail_after(timeout):\n\u001b[32m     34\u001b[39m     \u001b[38;5;28;01mtry\u001b[39;00m:\n\u001b[32m---> \u001b[39m\u001b[32m35\u001b[39m         \u001b[38;5;28;01mreturn\u001b[39;00m \u001b[38;5;28;01mawait\u001b[39;00m \u001b[38;5;28mself\u001b[39m._stream.receive(max_bytes=max_bytes)\n\u001b[32m     36\u001b[39m     \u001b[38;5;28;01mexcept\u001b[39;00m anyio.EndOfStream:  \u001b[38;5;66;03m# pragma: nocover\u001b[39;00m\n\u001b[32m     37\u001b[39m         \u001b[38;5;28;01mreturn\u001b[39;00m \u001b[33mb\u001b[39m\u001b[33m\"\u001b[39m\u001b[33m\"\u001b[39m\n",
      "\u001b[36mFile \u001b[39m\u001b[32mc:\\Users\\miche_5jfxoli\\AppData\\Local\\Programs\\Python\\Python311\\Lib\\site-packages\\anyio\\streams\\tls.py:204\u001b[39m, in \u001b[36mTLSStream.receive\u001b[39m\u001b[34m(self, max_bytes)\u001b[39m\n\u001b[32m    203\u001b[39m \u001b[38;5;28;01masync\u001b[39;00m \u001b[38;5;28;01mdef\u001b[39;00m\u001b[38;5;250m \u001b[39m\u001b[34mreceive\u001b[39m(\u001b[38;5;28mself\u001b[39m, max_bytes: \u001b[38;5;28mint\u001b[39m = \u001b[32m65536\u001b[39m) -> \u001b[38;5;28mbytes\u001b[39m:\n\u001b[32m--> \u001b[39m\u001b[32m204\u001b[39m     data = \u001b[38;5;28;01mawait\u001b[39;00m \u001b[38;5;28mself\u001b[39m._call_sslobject_method(\u001b[38;5;28mself\u001b[39m._ssl_object.read, max_bytes)\n\u001b[32m    205\u001b[39m     \u001b[38;5;28;01mif\u001b[39;00m \u001b[38;5;129;01mnot\u001b[39;00m data:\n\u001b[32m    206\u001b[39m         \u001b[38;5;28;01mraise\u001b[39;00m EndOfStream\n",
      "\u001b[36mFile \u001b[39m\u001b[32mc:\\Users\\miche_5jfxoli\\AppData\\Local\\Programs\\Python\\Python311\\Lib\\site-packages\\anyio\\streams\\tls.py:147\u001b[39m, in \u001b[36mTLSStream._call_sslobject_method\u001b[39m\u001b[34m(self, func, *args)\u001b[39m\n\u001b[32m    144\u001b[39m     \u001b[38;5;28;01mif\u001b[39;00m \u001b[38;5;28mself\u001b[39m._write_bio.pending:\n\u001b[32m    145\u001b[39m         \u001b[38;5;28;01mawait\u001b[39;00m \u001b[38;5;28mself\u001b[39m.transport_stream.send(\u001b[38;5;28mself\u001b[39m._write_bio.read())\n\u001b[32m--> \u001b[39m\u001b[32m147\u001b[39m     data = \u001b[38;5;28;01mawait\u001b[39;00m \u001b[38;5;28mself\u001b[39m.transport_stream.receive()\n\u001b[32m    148\u001b[39m \u001b[38;5;28;01mexcept\u001b[39;00m EndOfStream:\n\u001b[32m    149\u001b[39m     \u001b[38;5;28mself\u001b[39m._read_bio.write_eof()\n",
      "\u001b[36mFile \u001b[39m\u001b[32mc:\\Users\\miche_5jfxoli\\AppData\\Local\\Programs\\Python\\Python311\\Lib\\site-packages\\anyio\\_backends\\_asyncio.py:1246\u001b[39m, in \u001b[36mSocketStream.receive\u001b[39m\u001b[34m(self, max_bytes)\u001b[39m\n\u001b[32m   1240\u001b[39m \u001b[38;5;28;01mif\u001b[39;00m (\n\u001b[32m   1241\u001b[39m     \u001b[38;5;129;01mnot\u001b[39;00m \u001b[38;5;28mself\u001b[39m._protocol.read_event.is_set()\n\u001b[32m   1242\u001b[39m     \u001b[38;5;129;01mand\u001b[39;00m \u001b[38;5;129;01mnot\u001b[39;00m \u001b[38;5;28mself\u001b[39m._transport.is_closing()\n\u001b[32m   1243\u001b[39m     \u001b[38;5;129;01mand\u001b[39;00m \u001b[38;5;129;01mnot\u001b[39;00m \u001b[38;5;28mself\u001b[39m._protocol.is_at_eof\n\u001b[32m   1244\u001b[39m ):\n\u001b[32m   1245\u001b[39m     \u001b[38;5;28mself\u001b[39m._transport.resume_reading()\n\u001b[32m-> \u001b[39m\u001b[32m1246\u001b[39m     \u001b[38;5;28;01mawait\u001b[39;00m \u001b[38;5;28mself\u001b[39m._protocol.read_event.wait()\n\u001b[32m   1247\u001b[39m     \u001b[38;5;28mself\u001b[39m._transport.pause_reading()\n\u001b[32m   1248\u001b[39m \u001b[38;5;28;01melse\u001b[39;00m:\n",
      "\u001b[36mFile \u001b[39m\u001b[32mc:\\Users\\miche_5jfxoli\\AppData\\Local\\Programs\\Python\\Python311\\Lib\\asyncio\\locks.py:213\u001b[39m, in \u001b[36mEvent.wait\u001b[39m\u001b[34m(self)\u001b[39m\n\u001b[32m    211\u001b[39m \u001b[38;5;28mself\u001b[39m._waiters.append(fut)\n\u001b[32m    212\u001b[39m \u001b[38;5;28;01mtry\u001b[39;00m:\n\u001b[32m--> \u001b[39m\u001b[32m213\u001b[39m     \u001b[38;5;28;01mawait\u001b[39;00m fut\n\u001b[32m    214\u001b[39m     \u001b[38;5;28;01mreturn\u001b[39;00m \u001b[38;5;28;01mTrue\u001b[39;00m\n\u001b[32m    215\u001b[39m \u001b[38;5;28;01mfinally\u001b[39;00m:\n",
      "\u001b[31mCancelledError\u001b[39m: "
     ]
    }
   ],
   "source": [
    "translator = Translator()\n",
    "\n",
    "async def translate(value):\n",
    "      result = await translator.translate(value, dest=\"en\")\n",
    "      return result\n",
    "\n",
    "\n",
    "async def repeat_until_success(action, text, max_attempts=float('inf')):\n",
    "    attempts = 0\n",
    "    while attempts < max_attempts:\n",
    "        try:\n",
    "            result = await action(text)\n",
    "            return result  # Successful execution, return the result\n",
    "        except Exception as e:\n",
    "            attempts += 1\n",
    "            print(f\"Attempt {attempts} failed: {e}\")\n",
    "    print(f\"Action failed after {max_attempts} attempts.\")\n",
    "    return None # or raise an exception if appropriate\n",
    "\n",
    "translated_values = []\n",
    "for index, item in df[\"values\"].items():\n",
    "    if df[\"lang\"][index] != \"en\":\n",
    "        translated_conversation = []\n",
    "        for element in item:\n",
    "            # a=re.compile(\"<.*?>\")\n",
    "            # element = a.sub('', element)\n",
    "            if len(element) > 15000:\n",
    "                chunks = []\n",
    "                for i in range(0, len(element), 15000):\n",
    "                    chunks.append(element[i:i + 15000])\n",
    "                \n",
    "                translated_chunks = []\n",
    "                for chunk in chunks:\n",
    "                    # result = await translate(chunk)\n",
    "                    result = await repeat_until_success(translate, chunk)\n",
    "                    if result is not None:\n",
    "                        translated_chunks.append(result.text)\n",
    "                    else: \n",
    "                        print(\"error\")\n",
    "                \n",
    "                result = \" \".join(translated_chunks)\n",
    "                translated_conversation.append(result)\n",
    "\n",
    "            else:\n",
    "                # result = await translate(element)\n",
    "                result = await repeat_until_success(translate, element)\n",
    "                if result is not None:\n",
    "                    translated_conversation.append(result.text)\n",
    "                else:\n",
    "                    print(\"error\")\n",
    "                \n",
    "        translated_values.append(translated_conversation)\n",
    "    else:\n",
    "        translated_values.append(item)\n",
    "\n",
    "df[\"translated_values\"] = translated_values\n",
    "\n",
    "\n"
   ]
  },
  {
   "cell_type": "code",
   "execution_count": 39,
   "metadata": {},
   "outputs": [
    {
     "data": {
      "text/html": [
       "<div>\n",
       "<style scoped>\n",
       "    .dataframe tbody tr th:only-of-type {\n",
       "        vertical-align: middle;\n",
       "    }\n",
       "\n",
       "    .dataframe tbody tr th {\n",
       "        vertical-align: top;\n",
       "    }\n",
       "\n",
       "    .dataframe thead th {\n",
       "        text-align: right;\n",
       "    }\n",
       "</style>\n",
       "<table border=\"1\" class=\"dataframe\">\n",
       "  <thead>\n",
       "    <tr style=\"text-align: right;\">\n",
       "      <th></th>\n",
       "      <th>id</th>\n",
       "      <th>conversations</th>\n",
       "      <th>text</th>\n",
       "      <th>values</th>\n",
       "      <th>lang</th>\n",
       "      <th>translated_column_test</th>\n",
       "    </tr>\n",
       "  </thead>\n",
       "  <tbody>\n",
       "    <tr>\n",
       "      <th>0</th>\n",
       "      <td>Og9h3C1</td>\n",
       "      <td>[{'from': 'human', 'value': \"root@openvpn:/hom...</td>\n",
       "      <td>root@openvpn:/home/openvpn# ./openvpn-install....</td>\n",
       "      <td>[root@openvpn:/home/openvpn# ./openvpn-install...</td>\n",
       "      <td>en</td>\n",
       "      <td>[root@openvpn:/home/openvpn# ./openvpn-install...</td>\n",
       "    </tr>\n",
       "    <tr>\n",
       "      <th>1</th>\n",
       "      <td>A5AbcES</td>\n",
       "      <td>[{'from': 'human', 'value': 'In Java, I want t...</td>\n",
       "      <td>In Java, I want to replace string like \"This i...</td>\n",
       "      <td>[In Java, I want to replace string like \"This ...</td>\n",
       "      <td>en</td>\n",
       "      <td>[In Java, I want to replace string like \"This ...</td>\n",
       "    </tr>\n",
       "    <tr>\n",
       "      <th>2</th>\n",
       "      <td>IWkMGRK</td>\n",
       "      <td>[{'from': 'human', 'value': 'I have the follow...</td>\n",
       "      <td>I have the following C++ function: \\nvoid add_...</td>\n",
       "      <td>[I have the following C++ function: \\nvoid add...</td>\n",
       "      <td>en</td>\n",
       "      <td>[I have the following C++ function: \\nvoid add...</td>\n",
       "    </tr>\n",
       "    <tr>\n",
       "      <th>3</th>\n",
       "      <td>HskFS9I</td>\n",
       "      <td>[{'from': 'human', 'value': '1 / 1como crear u...</td>\n",
       "      <td>1 / 1como crear un rol para kuberntes y dar so...</td>\n",
       "      <td>[1 / 1como crear un rol para kuberntes y dar s...</td>\n",
       "      <td>es</td>\n",
       "      <td>[1 /1 How to create a role for kubernettes and...</td>\n",
       "    </tr>\n",
       "    <tr>\n",
       "      <th>4</th>\n",
       "      <td>yn2eWCt</td>\n",
       "      <td>[{'from': 'human', 'value': 'how do I add mult...</td>\n",
       "      <td>how do I add multiple new columns in m for pow...</td>\n",
       "      <td>[how do I add multiple new columns in m for po...</td>\n",
       "      <td>en</td>\n",
       "      <td>[how do I add multiple new columns in m for po...</td>\n",
       "    </tr>\n",
       "  </tbody>\n",
       "</table>\n",
       "</div>"
      ],
      "text/plain": [
       "        id                                      conversations  \\\n",
       "0  Og9h3C1  [{'from': 'human', 'value': \"root@openvpn:/hom...   \n",
       "1  A5AbcES  [{'from': 'human', 'value': 'In Java, I want t...   \n",
       "2  IWkMGRK  [{'from': 'human', 'value': 'I have the follow...   \n",
       "3  HskFS9I  [{'from': 'human', 'value': '1 / 1como crear u...   \n",
       "4  yn2eWCt  [{'from': 'human', 'value': 'how do I add mult...   \n",
       "\n",
       "                                                text  \\\n",
       "0  root@openvpn:/home/openvpn# ./openvpn-install....   \n",
       "1  In Java, I want to replace string like \"This i...   \n",
       "2  I have the following C++ function: \\nvoid add_...   \n",
       "3  1 / 1como crear un rol para kuberntes y dar so...   \n",
       "4  how do I add multiple new columns in m for pow...   \n",
       "\n",
       "                                              values lang  \\\n",
       "0  [root@openvpn:/home/openvpn# ./openvpn-install...   en   \n",
       "1  [In Java, I want to replace string like \"This ...   en   \n",
       "2  [I have the following C++ function: \\nvoid add...   en   \n",
       "3  [1 / 1como crear un rol para kuberntes y dar s...   es   \n",
       "4  [how do I add multiple new columns in m for po...   en   \n",
       "\n",
       "                              translated_column_test  \n",
       "0  [root@openvpn:/home/openvpn# ./openvpn-install...  \n",
       "1  [In Java, I want to replace string like \"This ...  \n",
       "2  [I have the following C++ function: \\nvoid add...  \n",
       "3  [1 /1 How to create a role for kubernettes and...  \n",
       "4  [how do I add multiple new columns in m for po...  "
      ]
     },
     "execution_count": 39,
     "metadata": {},
     "output_type": "execute_result"
    }
   ],
   "source": [
    "df.head()"
   ]
  },
  {
   "cell_type": "code",
   "execution_count": 11,
   "metadata": {},
   "outputs": [],
   "source": [
    "# relevant conversations\n",
    "# GwO8NfG\n",
    "# Nf7eXj3"
   ]
  },
  {
   "cell_type": "code",
   "execution_count": null,
   "metadata": {},
   "outputs": [],
   "source": [
    "corpus = df[\"text\"]"
   ]
  },
  {
   "cell_type": "code",
   "execution_count": null,
   "metadata": {},
   "outputs": [],
   "source": [
    "def preprocess_text(text):\n",
    "    text = str(text)\n",
    "    # remove angle brackets and all characters inside angle bracket\n",
    "    # a=re.compile(\"<.*?>\")\n",
    "    # text = a.sub('', text)\n",
    "    # remove punctuation\n",
    "    text = text.translate(str.maketrans('', '', string.punctuation))\n",
    "    # convert to lowercase\n",
    "    text = text.lower()\n",
    "    # tokenize the text\n",
    "    tokens = word_tokenize(text)\n",
    "    # remove stopwords\n",
    "    # tokens = [word for word in tokens if word not in stopwords.words('english')]\n",
    "    return tokens\n",
    "\n",
    "# preprocess all text\n",
    "preprocessed_text = [' '.join(preprocess_text(document)) for document in corpus]"
   ]
  },
  {
   "cell_type": "code",
   "execution_count": null,
   "metadata": {},
   "outputs": [],
   "source": [
    "df[\"preprocessed_text\"] = preprocessed_text"
   ]
  },
  {
   "cell_type": "code",
   "execution_count": null,
   "metadata": {},
   "outputs": [],
   "source": [
    "df.head()"
   ]
  },
  {
   "cell_type": "code",
   "execution_count": null,
   "metadata": {},
   "outputs": [],
   "source": [
    "corpus = df[\"preprocessed_text\"]"
   ]
  },
  {
   "cell_type": "code",
   "execution_count": null,
   "metadata": {},
   "outputs": [],
   "source": [
    "# tokenize the documents\n",
    "tokenized_documents = [doc.split() for doc in corpus]\n"
   ]
  },
  {
   "cell_type": "code",
   "execution_count": null,
   "metadata": {},
   "outputs": [],
   "source": [
    "# create a dictionary representation of the documents\n",
    "dictionary = Dictionary(tokenized_documents)"
   ]
  },
  {
   "cell_type": "code",
   "execution_count": null,
   "metadata": {},
   "outputs": [],
   "source": [
    "# convert document into bag-of-words format\n",
    "corpus = [dictionary.doc2bow(doc) for doc in tokenized_documents]"
   ]
  },
  {
   "cell_type": "code",
   "execution_count": null,
   "metadata": {},
   "outputs": [],
   "source": [
    "lda_model = LdaModel(corpus, num_topics=2, id2word=dictionary, random_state=42)\n"
   ]
  },
  {
   "cell_type": "code",
   "execution_count": null,
   "metadata": {},
   "outputs": [],
   "source": [
    "topics = lda_model.print_topics()\n",
    "for topic in topics:\n",
    "    print(topic)"
   ]
  }
 ],
 "metadata": {
  "kernelspec": {
   "display_name": "Python 3",
   "language": "python",
   "name": "python3"
  },
  "language_info": {
   "codemirror_mode": {
    "name": "ipython",
    "version": 3
   },
   "file_extension": ".py",
   "mimetype": "text/x-python",
   "name": "python",
   "nbconvert_exporter": "python",
   "pygments_lexer": "ipython3",
   "version": "3.11.5"
  }
 },
 "nbformat": 4,
 "nbformat_minor": 2
}
