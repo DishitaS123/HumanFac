{
 "cells": [
  {
   "cell_type": "code",
   "execution_count": 1,
   "metadata": {},
   "outputs": [],
   "source": [
    "import json\n",
    "import pandas as pd\n",
    "import string\n",
    "import nltk\n",
    "from nltk.tokenize import word_tokenize\n",
    "from nltk.corpus import stopwords\n",
    "from sklearn.feature_extraction.text import CountVectorizer\n",
    "import re\n",
    "from gensim.corpora import Dictionary\n",
    "from gensim.models import LdaModel"
   ]
  },
  {
   "cell_type": "code",
   "execution_count": 4,
   "metadata": {},
   "outputs": [
    {
     "data": {
      "text/html": [
       "<div>\n",
       "<style scoped>\n",
       "    .dataframe tbody tr th:only-of-type {\n",
       "        vertical-align: middle;\n",
       "    }\n",
       "\n",
       "    .dataframe tbody tr th {\n",
       "        vertical-align: top;\n",
       "    }\n",
       "\n",
       "    .dataframe thead th {\n",
       "        text-align: right;\n",
       "    }\n",
       "</style>\n",
       "<table border=\"1\" class=\"dataframe\">\n",
       "  <thead>\n",
       "    <tr style=\"text-align: right;\">\n",
       "      <th></th>\n",
       "      <th>id</th>\n",
       "      <th>conversations</th>\n",
       "    </tr>\n",
       "  </thead>\n",
       "  <tbody>\n",
       "    <tr>\n",
       "      <th>0</th>\n",
       "      <td>Og9h3C1</td>\n",
       "      <td>[{'from': 'human', 'value': \"root@openvpn:/hom...</td>\n",
       "    </tr>\n",
       "    <tr>\n",
       "      <th>1</th>\n",
       "      <td>A5AbcES</td>\n",
       "      <td>[{'from': 'human', 'value': 'In Java, I want t...</td>\n",
       "    </tr>\n",
       "    <tr>\n",
       "      <th>2</th>\n",
       "      <td>IWkMGRK</td>\n",
       "      <td>[{'from': 'human', 'value': 'I have the follow...</td>\n",
       "    </tr>\n",
       "    <tr>\n",
       "      <th>3</th>\n",
       "      <td>HskFS9I</td>\n",
       "      <td>[{'from': 'human', 'value': '1 / 1como crear u...</td>\n",
       "    </tr>\n",
       "    <tr>\n",
       "      <th>4</th>\n",
       "      <td>yn2eWCt</td>\n",
       "      <td>[{'from': 'human', 'value': 'how do I add mult...</td>\n",
       "    </tr>\n",
       "  </tbody>\n",
       "</table>\n",
       "</div>"
      ],
      "text/plain": [
       "        id                                      conversations\n",
       "0  Og9h3C1  [{'from': 'human', 'value': \"root@openvpn:/hom...\n",
       "1  A5AbcES  [{'from': 'human', 'value': 'In Java, I want t...\n",
       "2  IWkMGRK  [{'from': 'human', 'value': 'I have the follow...\n",
       "3  HskFS9I  [{'from': 'human', 'value': '1 / 1como crear u...\n",
       "4  yn2eWCt  [{'from': 'human', 'value': 'how do I add mult..."
      ]
     },
     "execution_count": 4,
     "metadata": {},
     "output_type": "execute_result"
    }
   ],
   "source": [
    "df = pd.read_csv(\"Dataframe_Wrangled_NoDuplicates.csv\")\n",
    "df.head()"
   ]
  },
  {
   "cell_type": "code",
   "execution_count": 5,
   "metadata": {},
   "outputs": [
    {
     "name": "stdout",
     "output_type": "stream",
     "text": [
      "23277\n"
     ]
    }
   ],
   "source": [
    "print(len(df))"
   ]
  },
  {
   "cell_type": "code",
   "execution_count": 24,
   "metadata": {},
   "outputs": [],
   "source": [
    "# parse conversations\n",
    "text_list = []\n",
    "for conversation in df[\"conversations\"]:\n",
    "    text = \"\"\n",
    "    parsed_conversation = eval(conversation)\n",
    "    for dialogue in parsed_conversation:\n",
    "        text += dialogue[\"value\"] + \" \"\n",
    "    text_list.append(text)\n",
    "\n",
    "# create column with the conversation text\n",
    "df[\"text\"] = text_list\n",
    "        \n"
   ]
  },
  {
   "cell_type": "code",
   "execution_count": 29,
   "metadata": {},
   "outputs": [
    {
     "data": {
      "text/html": [
       "<div>\n",
       "<style scoped>\n",
       "    .dataframe tbody tr th:only-of-type {\n",
       "        vertical-align: middle;\n",
       "    }\n",
       "\n",
       "    .dataframe tbody tr th {\n",
       "        vertical-align: top;\n",
       "    }\n",
       "\n",
       "    .dataframe thead th {\n",
       "        text-align: right;\n",
       "    }\n",
       "</style>\n",
       "<table border=\"1\" class=\"dataframe\">\n",
       "  <thead>\n",
       "    <tr style=\"text-align: right;\">\n",
       "      <th></th>\n",
       "      <th>id</th>\n",
       "      <th>conversations</th>\n",
       "      <th>text</th>\n",
       "    </tr>\n",
       "  </thead>\n",
       "  <tbody>\n",
       "    <tr>\n",
       "      <th>0</th>\n",
       "      <td>Og9h3C1</td>\n",
       "      <td>[{'from': 'human', 'value': \"root@openvpn:/hom...</td>\n",
       "      <td>root@openvpn:/home/openvpn# ./openvpn-install....</td>\n",
       "    </tr>\n",
       "    <tr>\n",
       "      <th>1</th>\n",
       "      <td>A5AbcES</td>\n",
       "      <td>[{'from': 'human', 'value': 'In Java, I want t...</td>\n",
       "      <td>In Java, I want to replace string like \"This i...</td>\n",
       "    </tr>\n",
       "    <tr>\n",
       "      <th>2</th>\n",
       "      <td>IWkMGRK</td>\n",
       "      <td>[{'from': 'human', 'value': 'I have the follow...</td>\n",
       "      <td>I have the following C++ function: \\nvoid add_...</td>\n",
       "    </tr>\n",
       "    <tr>\n",
       "      <th>3</th>\n",
       "      <td>HskFS9I</td>\n",
       "      <td>[{'from': 'human', 'value': '1 / 1como crear u...</td>\n",
       "      <td>1 / 1como crear un rol para kuberntes y dar so...</td>\n",
       "    </tr>\n",
       "    <tr>\n",
       "      <th>4</th>\n",
       "      <td>yn2eWCt</td>\n",
       "      <td>[{'from': 'human', 'value': 'how do I add mult...</td>\n",
       "      <td>how do I add multiple new columns in m for pow...</td>\n",
       "    </tr>\n",
       "  </tbody>\n",
       "</table>\n",
       "</div>"
      ],
      "text/plain": [
       "        id                                      conversations  \\\n",
       "0  Og9h3C1  [{'from': 'human', 'value': \"root@openvpn:/hom...   \n",
       "1  A5AbcES  [{'from': 'human', 'value': 'In Java, I want t...   \n",
       "2  IWkMGRK  [{'from': 'human', 'value': 'I have the follow...   \n",
       "3  HskFS9I  [{'from': 'human', 'value': '1 / 1como crear u...   \n",
       "4  yn2eWCt  [{'from': 'human', 'value': 'how do I add mult...   \n",
       "\n",
       "                                                text  \n",
       "0  root@openvpn:/home/openvpn# ./openvpn-install....  \n",
       "1  In Java, I want to replace string like \"This i...  \n",
       "2  I have the following C++ function: \\nvoid add_...  \n",
       "3  1 / 1como crear un rol para kuberntes y dar so...  \n",
       "4  how do I add multiple new columns in m for pow...  "
      ]
     },
     "execution_count": 29,
     "metadata": {},
     "output_type": "execute_result"
    }
   ],
   "source": [
    "df.head()\n"
   ]
  },
  {
   "cell_type": "code",
   "execution_count": 39,
   "metadata": {},
   "outputs": [],
   "source": [
    "corpus = df[\"text\"]"
   ]
  },
  {
   "cell_type": "code",
   "execution_count": 40,
   "metadata": {},
   "outputs": [],
   "source": [
    "def preprocess_text(text):\n",
    "    text = str(text)\n",
    "    # remove angle brackets and all characters inside angle bracket\n",
    "    a=re.compile(\"<.*?>\")\n",
    "    text = a.sub('', text)\n",
    "    # remove punctuation\n",
    "    text = text.translate(str.maketrans('', '', string.punctuation))\n",
    "    # convert to lowercase\n",
    "    text = text.lower()\n",
    "    # tokenize the text\n",
    "    tokens = word_tokenize(text)\n",
    "    # remove stopwords\n",
    "    # tokens = [word for word in tokens if word not in stopwords.words('english')]\n",
    "    return tokens\n",
    "\n",
    "# preprocess all text\n",
    "preprocessed_text = [' '.join(preprocess_text(document)) for document in corpus]"
   ]
  },
  {
   "cell_type": "code",
   "execution_count": 48,
   "metadata": {},
   "outputs": [],
   "source": [
    "df[\"preprocessed_text\"] = preprocessed_text"
   ]
  },
  {
   "cell_type": "code",
   "execution_count": 49,
   "metadata": {},
   "outputs": [
    {
     "data": {
      "text/html": [
       "<div>\n",
       "<style scoped>\n",
       "    .dataframe tbody tr th:only-of-type {\n",
       "        vertical-align: middle;\n",
       "    }\n",
       "\n",
       "    .dataframe tbody tr th {\n",
       "        vertical-align: top;\n",
       "    }\n",
       "\n",
       "    .dataframe thead th {\n",
       "        text-align: right;\n",
       "    }\n",
       "</style>\n",
       "<table border=\"1\" class=\"dataframe\">\n",
       "  <thead>\n",
       "    <tr style=\"text-align: right;\">\n",
       "      <th></th>\n",
       "      <th>id</th>\n",
       "      <th>conversations</th>\n",
       "      <th>text</th>\n",
       "      <th>preprocessed_text</th>\n",
       "    </tr>\n",
       "  </thead>\n",
       "  <tbody>\n",
       "    <tr>\n",
       "      <th>0</th>\n",
       "      <td>Og9h3C1</td>\n",
       "      <td>[{'from': 'human', 'value': \"root@openvpn:/hom...</td>\n",
       "      <td>root@openvpn:/home/openvpn# ./openvpn-install....</td>\n",
       "      <td>rootopenvpnhomeopenvpn openvpninstallsh welcom...</td>\n",
       "    </tr>\n",
       "    <tr>\n",
       "      <th>1</th>\n",
       "      <td>A5AbcES</td>\n",
       "      <td>[{'from': 'human', 'value': 'In Java, I want t...</td>\n",
       "      <td>In Java, I want to replace string like \"This i...</td>\n",
       "      <td>in java i want to replace string like this is ...</td>\n",
       "    </tr>\n",
       "    <tr>\n",
       "      <th>2</th>\n",
       "      <td>IWkMGRK</td>\n",
       "      <td>[{'from': 'human', 'value': 'I have the follow...</td>\n",
       "      <td>I have the following C++ function: \\nvoid add_...</td>\n",
       "      <td>i have the following c function void addplayer...</td>\n",
       "    </tr>\n",
       "    <tr>\n",
       "      <th>3</th>\n",
       "      <td>HskFS9I</td>\n",
       "      <td>[{'from': 'human', 'value': '1 / 1como crear u...</td>\n",
       "      <td>1 / 1como crear un rol para kuberntes y dar so...</td>\n",
       "      <td>1 1como crear un rol para kuberntes y dar solo...</td>\n",
       "    </tr>\n",
       "    <tr>\n",
       "      <th>4</th>\n",
       "      <td>yn2eWCt</td>\n",
       "      <td>[{'from': 'human', 'value': 'how do I add mult...</td>\n",
       "      <td>how do I add multiple new columns in m for pow...</td>\n",
       "      <td>how do i add multiple new columns in m for pow...</td>\n",
       "    </tr>\n",
       "  </tbody>\n",
       "</table>\n",
       "</div>"
      ],
      "text/plain": [
       "        id                                      conversations  \\\n",
       "0  Og9h3C1  [{'from': 'human', 'value': \"root@openvpn:/hom...   \n",
       "1  A5AbcES  [{'from': 'human', 'value': 'In Java, I want t...   \n",
       "2  IWkMGRK  [{'from': 'human', 'value': 'I have the follow...   \n",
       "3  HskFS9I  [{'from': 'human', 'value': '1 / 1como crear u...   \n",
       "4  yn2eWCt  [{'from': 'human', 'value': 'how do I add mult...   \n",
       "\n",
       "                                                text  \\\n",
       "0  root@openvpn:/home/openvpn# ./openvpn-install....   \n",
       "1  In Java, I want to replace string like \"This i...   \n",
       "2  I have the following C++ function: \\nvoid add_...   \n",
       "3  1 / 1como crear un rol para kuberntes y dar so...   \n",
       "4  how do I add multiple new columns in m for pow...   \n",
       "\n",
       "                                   preprocessed_text  \n",
       "0  rootopenvpnhomeopenvpn openvpninstallsh welcom...  \n",
       "1  in java i want to replace string like this is ...  \n",
       "2  i have the following c function void addplayer...  \n",
       "3  1 1como crear un rol para kuberntes y dar solo...  \n",
       "4  how do i add multiple new columns in m for pow...  "
      ]
     },
     "execution_count": 49,
     "metadata": {},
     "output_type": "execute_result"
    }
   ],
   "source": [
    "df.head()"
   ]
  },
  {
   "cell_type": "code",
   "execution_count": 60,
   "metadata": {},
   "outputs": [],
   "source": [
    "corpus = df[\"preprocessed_text\"]"
   ]
  },
  {
   "cell_type": "code",
   "execution_count": 62,
   "metadata": {},
   "outputs": [
    {
     "ename": "KeyboardInterrupt",
     "evalue": "",
     "output_type": "error",
     "traceback": [
      "\u001b[31m---------------------------------------------------------------------------\u001b[39m",
      "\u001b[31mKeyboardInterrupt\u001b[39m                         Traceback (most recent call last)",
      "\u001b[36mCell\u001b[39m\u001b[36m \u001b[39m\u001b[32mIn[62]\u001b[39m\u001b[32m, line 2\u001b[39m\n\u001b[32m      1\u001b[39m \u001b[38;5;66;03m# tokenize the documents\u001b[39;00m\n\u001b[32m----> \u001b[39m\u001b[32m2\u001b[39m tokenized_documents = \u001b[43m[\u001b[49m\u001b[43mdoc\u001b[49m\u001b[43m.\u001b[49m\u001b[43msplit\u001b[49m\u001b[43m(\u001b[49m\u001b[43m)\u001b[49m\u001b[43m \u001b[49m\u001b[38;5;28;43;01mfor\u001b[39;49;00m\u001b[43m \u001b[49m\u001b[43mdoc\u001b[49m\u001b[43m \u001b[49m\u001b[38;5;129;43;01min\u001b[39;49;00m\u001b[43m \u001b[49m\u001b[43mcorpus\u001b[49m\u001b[43m]\u001b[49m\n",
      "\u001b[36mCell\u001b[39m\u001b[36m \u001b[39m\u001b[32mIn[62]\u001b[39m\u001b[32m, line 2\u001b[39m, in \u001b[36m<listcomp>\u001b[39m\u001b[34m(.0)\u001b[39m\n\u001b[32m      1\u001b[39m \u001b[38;5;66;03m# tokenize the documents\u001b[39;00m\n\u001b[32m----> \u001b[39m\u001b[32m2\u001b[39m tokenized_documents = [doc.split() \u001b[38;5;28;01mfor\u001b[39;00m doc \u001b[38;5;129;01min\u001b[39;00m corpus]\n",
      "\u001b[31mKeyboardInterrupt\u001b[39m: "
     ]
    }
   ],
   "source": [
    "# tokenize the documents\n",
    "tokenized_documents = [doc.split() for doc in corpus]\n"
   ]
  },
  {
   "cell_type": "code",
   "execution_count": 55,
   "metadata": {},
   "outputs": [],
   "source": [
    "# create a dictionary representation of the documents\n",
    "dictionary = Dictionary(tokenized_documents)"
   ]
  },
  {
   "cell_type": "code",
   "execution_count": 56,
   "metadata": {},
   "outputs": [],
   "source": [
    "# convert document into bag-of-words format\n",
    "corpus = [dictionary.doc2bow(doc) for doc in tokenized_documents]"
   ]
  },
  {
   "cell_type": "code",
   "execution_count": 57,
   "metadata": {},
   "outputs": [],
   "source": [
    "lda_model = LdaModel(corpus, num_topics=2, id2word=dictionary, random_state=42)\n"
   ]
  },
  {
   "cell_type": "code",
   "execution_count": 58,
   "metadata": {},
   "outputs": [
    {
     "name": "stdout",
     "output_type": "stream",
     "text": [
      "(0, '0.020*\"de\" + 0.014*\"the\" + 0.013*\"la\" + 0.009*\"a\" + 0.008*\"en\" + 0.007*\"to\" + 0.007*\"const\" + 0.007*\"que\" + 0.006*\"y\" + 0.006*\"gt\"')\n",
      "(1, '0.070*\"the\" + 0.031*\"to\" + 0.029*\"and\" + 0.024*\"a\" + 0.020*\"of\" + 0.015*\"in\" + 0.013*\"is\" + 0.013*\"for\" + 0.011*\"you\" + 0.010*\"that\"')\n"
     ]
    }
   ],
   "source": [
    "topics = lda_model.print_topics()\n",
    "for topic in topics:\n",
    "    print(topic)"
   ]
  }
 ],
 "metadata": {
  "kernelspec": {
   "display_name": "Python 3",
   "language": "python",
   "name": "python3"
  },
  "language_info": {
   "codemirror_mode": {
    "name": "ipython",
    "version": 3
   },
   "file_extension": ".py",
   "mimetype": "text/x-python",
   "name": "python",
   "nbconvert_exporter": "python",
   "pygments_lexer": "ipython3",
   "version": "3.11.5"
  }
 },
 "nbformat": 4,
 "nbformat_minor": 2
}
